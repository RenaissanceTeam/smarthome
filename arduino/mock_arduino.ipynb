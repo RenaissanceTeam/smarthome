{
 "cells": [
  {
   "cell_type": "code",
   "execution_count": null,
   "metadata": {},
   "outputs": [],
   "source": []
  },
  {
   "cell_type": "code",
   "execution_count": 6,
   "metadata": {},
   "outputs": [],
   "source": [
    "from http.server import BaseHTTPRequestHandler,HTTPServer\n",
    "\n",
    "\n"
   ]
  },
  {
   "cell_type": "code",
   "execution_count": null,
   "metadata": {},
   "outputs": [],
   "source": [
    "\n",
    "PORT_NUMBER = 4484"
   ]
  },
  {
   "cell_type": "code",
   "execution_count": null,
   "metadata": {},
   "outputs": [
    {
     "name": "stdout",
     "output_type": "stream",
     "text": [
      "Started httpserver on port  4484\n"
     ]
    },
    {
     "name": "stderr",
     "output_type": "stream",
     "text": [
      "127.0.0.1 - - [21/Apr/2020 19:36:38] \"GET /service?i=0 HTTP/1.1\" 200 -\n",
      "127.0.0.1 - - [21/Apr/2020 19:39:00] \"GET /service?i=0 HTTP/1.1\" 200 -\n",
      "127.0.0.1 - - [21/Apr/2020 19:39:05] \"GET /service?i=0 HTTP/1.1\" 200 -\n",
      "127.0.0.1 - - [22/Apr/2020 00:12:05] \"GET /service?i=0 HTTP/1.1\" 200 -\n",
      "127.0.0.1 - - [22/Apr/2020 00:12:26] \"GET /service?i=0 HTTP/1.1\" 200 -\n",
      "127.0.0.1 - - [22/Apr/2020 00:13:32] \"GET /service?i=0 HTTP/1.1\" 200 -\n"
     ]
    }
   ],
   "source": [
    "onoff = \"on\"\n",
    "tmp = 23\n",
    "\n",
    "#This class will handles any incoming request from\n",
    "#the browser \n",
    "class myHandler(BaseHTTPRequestHandler):\n",
    "\n",
    "    #Handler for the GET requests\n",
    "    def do_GET(self):\n",
    "        global onoff, tmp\n",
    "\n",
    "        response = \"{\\\"response\\\":\\\"22.2\\\"}\".encode()\n",
    "        if (self.path == \"/service?i=0\"):\n",
    "            self.send_response(200)\n",
    "\n",
    "            self.send_header('Content-type','application/json')\n",
    "            self.send_header('Content-Size', len(response))\n",
    "            self.end_headers()\n",
    "            self.wfile.write(response)\n",
    "\n",
    "\n",
    "\n",
    "        if (self.path == \"/controller/0\"):\n",
    "\n",
    "            self.send_response(200)\n",
    "            self.send_header('Content-type','text/plain')\n",
    "            self.end_headers()\n",
    "\n",
    "            tmp +=1\t \n",
    "            self.wfile.write(str(tmp).encode())\n",
    "\n",
    "            print(\"read == \",tmp)\t\n",
    "        return\n",
    "\n",
    "    def do_POST(self):\n",
    "        global onoff, tmp\n",
    "\n",
    "        print(\"post\")\n",
    "        if (self.path == \"/controller/1\"):\n",
    "\n",
    "            content_len = int(self.headers.get('Content-Length'))\n",
    "            post_body = self.rfile.read(content_len)\n",
    "\n",
    "\n",
    "            self.send_response(200)\n",
    "            self.send_header('Content-type','text/plain')\n",
    "            self.end_headers()\n",
    "\n",
    "            onoff = post_body.decode()\n",
    "            self.wfile.write(onoff.encode())\n",
    "            print(\"changed to\", onoff)\n",
    "\n",
    "try:\n",
    "    #Create a web server and define the handler to manage the\n",
    "    #incoming request\n",
    "    server = HTTPServer(('', PORT_NUMBER), myHandler)\n",
    "    print ('Started httpserver on port ' , PORT_NUMBER)\n",
    "\n",
    "    #Wait forever for incoming htto requests\n",
    "    server.serve_forever()\n",
    "\n",
    "except KeyboardInterrupt:\n",
    "    print('^C received, shutting down the web server')\n",
    "    server.socket.close()"
   ]
  },
  {
   "cell_type": "code",
   "execution_count": null,
   "metadata": {},
   "outputs": [],
   "source": []
  },
  {
   "cell_type": "code",
   "execution_count": null,
   "metadata": {},
   "outputs": [],
   "source": []
  }
 ],
 "metadata": {
  "kernelspec": {
   "display_name": "Python 3",
   "language": "python",
   "name": "python3"
  },
  "language_info": {
   "codemirror_mode": {
    "name": "ipython",
    "version": 3
   },
   "file_extension": ".py",
   "mimetype": "text/x-python",
   "name": "python",
   "nbconvert_exporter": "python",
   "pygments_lexer": "ipython3",
   "version": "3.7.3"
  }
 },
 "nbformat": 4,
 "nbformat_minor": 2
}
