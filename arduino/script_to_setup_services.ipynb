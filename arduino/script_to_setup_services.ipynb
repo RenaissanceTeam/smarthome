{
 "cells": [
  {
   "cell_type": "code",
   "execution_count": 1,
   "metadata": {},
   "outputs": [],
   "source": [
    "ids = {}\n",
    "ids[\"ANALOG_ID\"] = 1000\n",
    "ids[\"ONOFF_ID\"] = 1001\n",
    "ids[\"TEMPERATURE_DHT11_ID\"] = 1002\n",
    "ids[\"HUMIDITY_DHT11_ID\"] = 1003\n",
    "ids[\"DIGITAL_ALERT_ID\"] = 1004\n",
    "ids[\"INIT_SERVICE_ID\"] = 1005\n",
    "ids[\"TEMPERATURE_DHT22_ID\"] = 1006\n",
    "ids[\"HUMIDITY_DHT22_ID\"] = 1007\n",
    "ids[\"PRESSURE_ID\"] = 1008\n",
    "\n"
   ]
  },
  {
   "cell_type": "code",
   "execution_count": 64,
   "metadata": {},
   "outputs": [],
   "source": [
    "class Service:\n",
    "    def __init__(self, serviceId, idKey, propertyName, setup):\n",
    "        self.serviceId = serviceId\n",
    "        self.idKey = idKey\n",
    "        self.serviceKey = idKey[:-3]\n",
    "        self.propertyName = propertyName\n",
    "        self.setup = setup"
   ]
  },
  {
   "cell_type": "code",
   "execution_count": 88,
   "metadata": {},
   "outputs": [],
   "source": [
    "analog = Service(1000, \"ANALOG_ID\", \"analog\", \"INPUT\")\n",
    "onoff = Service(1001, \"ONOFF_ID\", \"onoff\", \"OUTPUT\")\n",
    "temperature11 = Service(1002, \"TEMPERATURE_DHT11_ID\", \"temperature11\", \"INPUT\")\n",
    "humidity11 = Service(1003, \"HUMIDITY_DHT11_ID\", \"humidity11\", \"INPUT\")\n",
    "alert = Service(1004, \"DIGITAL_ALERT_ID\", \"alert\", \"INPUT\")\n",
    "init = Service(1005, \"INIT_SERVICE_ID\", \"init\", \"INPUT\")\n",
    "temperature22 = Service(1006, \"TEMPERATURE_DHT22_ID\", \"temperature22\", \"INPUT\")\n",
    "humidity22 = Service(1007, \"HUMIDITY_DHT22_ID\", \"humidity22\", \"INPUT\")\n",
    "pressure = Service(1008, \"PRESSURE_ID\", \"pressure\", \"INPUT\")"
   ]
  },
  {
   "cell_type": "code",
   "execution_count": 89,
   "metadata": {},
   "outputs": [],
   "source": [
    "deviceName = \"arduinonano\"\n",
    "rx, tx = \"2\", \"3\"\n",
    "setup = [\n",
    "    (analog, \"A0\"),\n",
    "    (analog, \"A1\"),\n",
    "    (analog, \"A2\"),\n",
    "    (analog, \"A3\"),\n",
    "    (analog, \"A4\"),\n",
    "    (analog, \"A5\"),\n",
    "    (alert, \"4\"),\n",
    "    (alert, \"5\"),\n",
    "    (alert, \"6\"),\n",
    "    (alert, \"7\"),\n",
    "    (temperature22, \"8\"),\n",
    "    (humidity22, \"8\"),\n",
    "    (init, \"9\"),\n",
    "    (onoff, \"10\"),\n",
    "    (onoff, \"11\"),\n",
    "    (onoff, \"12\")\n",
    "]"
   ]
  },
  {
   "cell_type": "code",
   "execution_count": 90,
   "metadata": {},
   "outputs": [
    {
     "data": {
      "text/plain": [
       "'9'"
      ]
     },
     "execution_count": 90,
     "metadata": {},
     "output_type": "execute_result"
    }
   ],
   "source": [
    "setup[list(map(lambda x: x[0], setup)).index(init)][1]"
   ]
  },
  {
   "cell_type": "code",
   "execution_count": 91,
   "metadata": {},
   "outputs": [
    {
     "name": "stdout",
     "output_type": "stream",
     "text": [
      "\n",
      "#include \"user_properties.h\"\n",
      "#include \"services.h\"\n",
      "\n",
      "#define DEVICE_NAME \"arduinonano\"\n",
      "#define RASPBERRY_PORT 8080\n",
      "#define UDP_PORT       59743\n",
      "#define ARDUINO_PORT   8080\n",
      "\n",
      "// used services\n",
      "#define INIT_SERVICE\n",
      "#define TEMPERATURE_DHT22\n",
      "#define DIGITAL_ALERT\n",
      "#define HUMIDITY_DHT22\n",
      "#define ONOFF\n",
      "#define ANALOG\n",
      "\n",
      "// pins for communication with esp8266\n",
      "#define RX 2 // attach to TX of esp\n",
      "#define TX 3 // attach to RX of esp\n",
      "\n",
      "// static services array, pay attention to the defined pins\n",
      "int SERVICES[] = {ANALOG_ID, ANALOG_ID, ANALOG_ID, ANALOG_ID, ANALOG_ID, ANALOG_ID, DIGITAL_ALERT_ID, DIGITAL_ALERT_ID, DIGITAL_ALERT_ID, DIGITAL_ALERT_ID, TEMPERATURE_DHT22_ID, HUMIDITY_DHT22_ID, INIT_SERVICE_ID, ONOFF_ID, ONOFF_ID, ONOFF_ID};\n",
      "int PINS[] = {A0, A1, A2, A3, A4, A5, 4, 5, 6, 7, 8, 8, 9, 10, 11, 12};\n",
      "#define SERVICES_STR \"1000;1000;1000;1000;1000;1000;1004;1004;1004;1004;1006;1007;1005;1001;1001;1001\" \n",
      "#define SERVICES_COUNT 16\n",
      "#define DIGITAL_ALERT_COUNT 4\n",
      "#define INIT_PIN 9\n",
      "// will be called on arduino 'setup()'\n",
      "void setupConfiguration() {\n",
      "\tpinMode(A0, INPUT);\n",
      "\tpinMode(A1, INPUT);\n",
      "\tpinMode(A2, INPUT);\n",
      "\tpinMode(A3, INPUT);\n",
      "\tpinMode(A4, INPUT);\n",
      "\tpinMode(A5, INPUT);\n",
      "\tpinMode(4, INPUT);\n",
      "\tpinMode(5, INPUT);\n",
      "\tpinMode(6, INPUT);\n",
      "\tpinMode(7, INPUT);\n",
      "\tpinMode(8, INPUT);\n",
      "\tpinMode(8, INPUT);\n",
      "\tpinMode(9, INPUT);\n",
      "\tpinMode(10, OUTPUT);\n",
      "\tpinMode(11, OUTPUT);\n",
      "\tpinMode(12, OUTPUT);\n",
      "}\n",
      "\n"
     ]
    }
   ],
   "source": [
    "paste = \"\"\"\n",
    "#include \"user_properties.h\"\n",
    "#include \"services.h\"\n",
    "\n",
    "#define DEVICE_NAME \"%s\"\n",
    "#define RASPBERRY_PORT 8080\n",
    "#define UDP_PORT       59743\n",
    "#define ARDUINO_PORT   8080\n",
    "\n",
    "// used services\n",
    "\"\"\" % (deviceName)\n",
    "\n",
    "for i in set(map(lambda x: x[0], setup)):\n",
    "    paste += \"#define \" + i.serviceKey + \"\\n\"\n",
    "\n",
    "    \n",
    "# paste += \"\\n// pins for services\\n\"\n",
    "# count = 0\n",
    "# for i in setup:\n",
    "#     paste += \"#define \" + i[0].propertyName + \"_\" + str(count) + \" \" + i[1] + \"\\n\"\n",
    "#     count += 1\n",
    "    \n",
    "paste += \"\\n// pins for communication with esp8266\\n\"\n",
    "paste += \"#define RX \" + rx + \" // attach to TX of esp\\n\"\n",
    "paste += \"#define TX \" + tx + \" // attach to RX of esp\\n\"\n",
    "\n",
    "paste += \"\\n// static services array, pay attention to the defined pins\\n\"\n",
    "paste += \"int SERVICES[] = {%s};\\n\" % \", \".join(map(lambda x: x[0].idKey, setup))\n",
    "paste += \"int PINS[] = {%s};\\n\" % \", \".join(map(lambda x: x[1], setup))\n",
    "paste += \"#define SERVICES_STR \\\"%s\\\" \\n\" % \";\".join(map(lambda x: str(x[0].serviceId), setup)) \n",
    "paste += \"#define SERVICES_COUNT %s\\n\" % len(setup) \n",
    "paste += \"#define DIGITAL_ALERT_COUNT %s\\n\" % list(map(lambda x: x[0], setup)).count(alert)\n",
    "if (init in list(map(lambda x: x[0], setup))):\n",
    "    paste += \"#define INIT_PIN \" + setup[list(map(lambda x: x[0], setup)).index(init)][1] + \"\\n\"\n",
    "paste += \"// will be called on arduino 'setup()'\\n\"\n",
    "paste += \"void setupConfiguration() {\\n\"\n",
    "\n",
    "for i in setup:\n",
    "    paste += \"\\tpinMode(%s, %s);\\n\" % (i[1], i[0].setup)\n",
    "paste += \"}\\n\"\n",
    "\n",
    "print(paste)"
   ]
  },
  {
   "cell_type": "code",
   "execution_count": null,
   "metadata": {},
   "outputs": [],
   "source": []
  },
  {
   "cell_type": "code",
   "execution_count": null,
   "metadata": {},
   "outputs": [],
   "source": []
  }
 ],
 "metadata": {
  "kernelspec": {
   "display_name": "Python 3",
   "language": "python",
   "name": "python3"
  },
  "language_info": {
   "codemirror_mode": {
    "name": "ipython",
    "version": 3
   },
   "file_extension": ".py",
   "mimetype": "text/x-python",
   "name": "python",
   "nbconvert_exporter": "python",
   "pygments_lexer": "ipython3",
   "version": "3.6.5"
  }
 },
 "nbformat": 4,
 "nbformat_minor": 2
}
