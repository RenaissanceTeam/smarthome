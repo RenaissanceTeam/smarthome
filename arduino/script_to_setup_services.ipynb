{
 "cells": [
  {
   "cell_type": "code",
   "execution_count": 4,
   "metadata": {},
   "outputs": [],
   "source": [
    "import random\n",
    "import time\n",
    "import uuid\n",
    "\n"
   ]
  },
  {
   "cell_type": "code",
   "execution_count": 17,
   "metadata": {},
   "outputs": [],
   "source": [
    "def randomInt():\n",
    "    return random.randint(-2147483648, 2147483647)"
   ]
  },
  {
   "cell_type": "code",
   "execution_count": 35,
   "metadata": {},
   "outputs": [],
   "source": [
    "deviceNameLength = 32\n",
    "serviceNameLength = 8\n",
    "\n",
    "devicePort = 8080"
   ]
  },
  {
   "cell_type": "code",
   "execution_count": 5,
   "metadata": {},
   "outputs": [],
   "source": [
    "def generateName(length=5):\n",
    "    return str(uuid.uuid4().hex)[:length]\n",
    "\n"
   ]
  },
  {
   "cell_type": "code",
   "execution_count": 33,
   "metadata": {},
   "outputs": [],
   "source": [
    "class ArduinoDevice:\n",
    "    def __init__(self, name, controllers,serialName=None, rx=8, tx=9):\n",
    "        self.rx = rx\n",
    "        self.tx = tx\n",
    "        self.name = name\n",
    "        self.serialname = generateName(deviceNameLength) if (serialName == None) else serialName\n",
    "        self.type = \"arduino\"\n",
    "        self.port = devicePort\n",
    "        self.controllers = controllers\n",
    "        \n",
    "        "
   ]
  },
  {
   "cell_type": "code",
   "execution_count": null,
   "metadata": {},
   "outputs": [],
   "source": []
  },
  {
   "cell_type": "code",
   "execution_count": 26,
   "metadata": {},
   "outputs": [],
   "source": [
    "intypes = [\"analog\", \"temperature11\", \"humidity11\", \"temperature22\", \"humidity22\", \"alert\", \"pressure\"]"
   ]
  },
  {
   "cell_type": "code",
   "execution_count": null,
   "metadata": {},
   "outputs": [],
   "source": []
  },
  {
   "cell_type": "code",
   "execution_count": 42,
   "metadata": {},
   "outputs": [],
   "source": [
    "ids = {'analog': 1000,\n",
    " 'onoff': 1001,\n",
    " 'temperature11': 1002,\n",
    " 'humidity11': 1003,\n",
    " 'alert': 1004,\n",
    " 'temperature22': 1006,\n",
    " 'humidity22': 1007,\n",
    " 'pressure': 1008}\n",
    "\n",
    "serviceIds = {\n",
    "    'analog': \"ANALOG_ID\",\n",
    " 'onoff':\"ONOFF_ID\",\n",
    " 'temperature11': \"TEMPERATURE_DHT11_ID\",\n",
    " 'humidity11': \"HUMIDITY_DHT11_ID\",\n",
    " 'alert': \"DIGITAL_ALERT_ID\",\n",
    " 'temperature22': \"TEMPERATURE_DHT22_ID\",\n",
    " 'humidity22': \"HUMIDITY_DHT22_ID\",\n",
    " 'pressure': \"PRESSURE_ID\"\n",
    "}\n"
   ]
  },
  {
   "cell_type": "code",
   "execution_count": 62,
   "metadata": {},
   "outputs": [],
   "source": [
    "class ArduinoController:\n",
    "    def __init__(self, _type, pin):\n",
    "        self._type =ids[_type]\n",
    "        self.rawType = _type\n",
    "        self.serviceId = serviceIds[_type]\n",
    "        self.defineService = serviceIds[_type][:-3]\n",
    "        self.pin = pin\n",
    "        self.serial = randomInt()\n",
    "        \n",
    "        "
   ]
  },
  {
   "cell_type": "code",
   "execution_count": 63,
   "metadata": {},
   "outputs": [],
   "source": [
    "device = ArduinoDevice(name=\"1\", controllers=[\n",
    "    ArduinoController(\"analog\", \"A3\"),\n",
    "    ArduinoController(\"alert\", \"10\"),\n",
    "    ArduinoController(\"alert\", \"12\"),\n",
    "    ArduinoController(\"temperature22\", \"7\"),\n",
    "    ArduinoController(\"humidity22\", \"7\"),\n",
    "    ArduinoController(\"onoff\", \"4\"),\n",
    "    ArduinoController(\"onoff\", \"3\"),\n",
    "    ArduinoController(\"onoff\", \"2\")\n",
    "])\n"
   ]
  },
  {
   "cell_type": "code",
   "execution_count": 64,
   "metadata": {},
   "outputs": [],
   "source": [
    "paste = \"\"\"\n",
    "#include \"user_properties.h\"\n",
    "#include \"services.h\"\n",
    "\n",
    "#define RASPBERRY_PORT 8080\n",
    "#define RASPBERRY_IP \"192.168.0.102\"\n",
    "#define ARDUINO_PORT 80\n",
    "\n",
    "// used services\n",
    "\"\"\"\n",
    "\n",
    "for i in set(map(lambda x: x.defineService, device.controllers)):\n",
    "    paste += \"#define \" + i + \"\\n\"\n",
    "    \n",
    "\n"
   ]
  },
  {
   "cell_type": "code",
   "execution_count": 54,
   "metadata": {},
   "outputs": [],
   "source": [
    "def mode(controller):\n",
    "    return \"INPUT\" if controller.rawType in intypes else \"OUTPUT\""
   ]
  },
  {
   "cell_type": "code",
   "execution_count": 65,
   "metadata": {},
   "outputs": [
    {
     "name": "stdout",
     "output_type": "stream",
     "text": [
      "\n",
      "#include \"user_properties.h\"\n",
      "#include \"services.h\"\n",
      "\n",
      "#define RASPBERRY_PORT 8080\n",
      "#define RASPBERRY_IP \"192.168.0.102\"\n",
      "#define ARDUINO_PORT 80\n",
      "\n",
      "// used services\n",
      "#define DIGITAL_ALERT\n",
      "#define ONOFF\n",
      "#define TEMPERATURE_DHT22\n",
      "#define HUMIDITY_DHT22\n",
      "#define ANALOG\n",
      "\n",
      "// pins for communication with esp8266\n",
      "#define RX 8 // attach to TX of esp\n",
      "#define TX 9 // attach to RX of esp\n",
      "Service services[10];void setupConfiguration() {\n",
      "\tpinMode(A3, INPUT);\n",
      "\tservices[0].pin = A3;\n",
      "\tservices[0].type = 1000;\n",
      "\tservices[0].serial = 1717276558;\n",
      "\n",
      "\tpinMode(10, INPUT);\n",
      "\tservices[1].pin = 10;\n",
      "\tservices[1].type = 1004;\n",
      "\tservices[1].serial = -540306999;\n",
      "\n",
      "\tpinMode(12, INPUT);\n",
      "\tservices[2].pin = 12;\n",
      "\tservices[2].type = 1004;\n",
      "\tservices[2].serial = 940716679;\n",
      "\n",
      "\tpinMode(7, INPUT);\n",
      "\tservices[3].pin = 7;\n",
      "\tservices[3].type = 1006;\n",
      "\tservices[3].serial = -634933851;\n",
      "\n",
      "\tpinMode(7, INPUT);\n",
      "\tservices[4].pin = 7;\n",
      "\tservices[4].type = 1007;\n",
      "\tservices[4].serial = -539064424;\n",
      "\n",
      "\tpinMode(4, OUTPUT);\n",
      "\tservices[5].pin = 4;\n",
      "\tservices[5].type = 1001;\n",
      "\tservices[5].serial = -1121758679;\n",
      "\n",
      "\tpinMode(3, OUTPUT);\n",
      "\tservices[6].pin = 3;\n",
      "\tservices[6].type = 1001;\n",
      "\tservices[6].serial = 295231660;\n",
      "\n",
      "\tpinMode(2, OUTPUT);\n",
      "\tservices[7].pin = 2;\n",
      "\tservices[7].type = 1001;\n",
      "\tservices[7].serial = -535431216;\n",
      "\n",
      "}\n",
      "\n"
     ]
    }
   ],
   "source": [
    "paste = \"\"\"\n",
    "#include \"user_properties.h\"\n",
    "#include \"services.h\"\n",
    "#include \"service.h\"\n",
    "\n",
    "#define RASPBERRY_PORT 8080\n",
    "#define RASPBERRY_IP \"192.168.0.102\"\n",
    "#define ARDUINO_PORT 80\n",
    "\n",
    "// used services\n",
    "\"\"\"\n",
    "\n",
    "for i in set(map(lambda x: x.defineService, device.controllers)):\n",
    "    paste += \"#define \" + i + \"\\n\"\n",
    "\n",
    "\n",
    "    \n",
    "paste += \"\\n// pins for communication with esp8266\\n\"\n",
    "paste += \"#define RX \" + str(device.rx) + \" // attach to TX of esp\\n\"\n",
    "paste += \"#define TX \" + str(device.tx) + \" // attach to RX of esp\\n\"\n",
    "paste += \"Service services[10];\"\n",
    "paste += \"void setupConfiguration() {\\n\"\n",
    "\n",
    "for controller in device.controllers:\n",
    "    paste += \"\\tpinMode(\" + str(controller.pin) + \", \" + mode(controller) + \");\\n\"\n",
    "    paste += \"\\tservices[%i].pin = %s;\\n\" % (device.controllers.index(controller), controller.pin)\n",
    "    paste += \"\\tservices[%i].type = %s;\\n\" % (device.controllers.index(controller), controller._type)\n",
    "    paste += \"\\tservices[%i].serial = %s;\\n\" % (device.controllers.index(controller), controller.serial)\n",
    "    paste += \"\\n\"\n",
    "paste += \"}\\n\"\n",
    "\n",
    "print(paste)"
   ]
  },
  {
   "cell_type": "code",
   "execution_count": null,
   "metadata": {},
   "outputs": [],
   "source": []
  },
  {
   "cell_type": "code",
   "execution_count": null,
   "metadata": {},
   "outputs": [],
   "source": []
  }
 ],
 "metadata": {
  "kernelspec": {
   "display_name": "Python 3",
   "language": "python",
   "name": "python3"
  },
  "language_info": {
   "codemirror_mode": {
    "name": "ipython",
    "version": 3
   },
   "file_extension": ".py",
   "mimetype": "text/x-python",
   "name": "python",
   "nbconvert_exporter": "python",
   "pygments_lexer": "ipython3",
   "version": "3.8.2"
  }
 },
 "nbformat": 4,
 "nbformat_minor": 2
}
