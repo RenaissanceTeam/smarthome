{
 "cells": [
  {
   "cell_type": "code",
   "execution_count": 3,
   "metadata": {},
   "outputs": [],
   "source": [
    "import random\n",
    "import time\n",
    "import uuid\n",
    "\n"
   ]
  },
  {
   "cell_type": "code",
   "execution_count": 4,
   "metadata": {},
   "outputs": [],
   "source": [
    "def randomInt():\n",
    "    return random.randint(-2147483648, 2147483647)"
   ]
  },
  {
   "cell_type": "code",
   "execution_count": 5,
   "metadata": {},
   "outputs": [],
   "source": [
    "deviceNameLength = 32\n",
    "serviceNameLength = 8\n",
    "\n",
    "devicePort = 8080"
   ]
  },
  {
   "cell_type": "code",
   "execution_count": 6,
   "metadata": {},
   "outputs": [],
   "source": [
    "def generateName(length=5):\n",
    "    return str(uuid.uuid4().hex)[:length]\n",
    "\n"
   ]
  },
  {
   "cell_type": "code",
   "execution_count": 15,
   "metadata": {},
   "outputs": [],
   "source": [
    "class ArduinoDevice:\n",
    "    def __init__(self, name, controllers, rx=8, tx=9):\n",
    "        self.rx = rx\n",
    "        self.tx = tx\n",
    "        self.name = name\n",
    "        self.serial = randomInt()\n",
    "        self.type = \"arduino\"\n",
    "        self.port = devicePort\n",
    "        self.controllers = controllers\n",
    "        \n",
    "        "
   ]
  },
  {
   "cell_type": "code",
   "execution_count": null,
   "metadata": {},
   "outputs": [],
   "source": []
  },
  {
   "cell_type": "code",
   "execution_count": 16,
   "metadata": {},
   "outputs": [],
   "source": [
    "intypes = [\"analog\", \"temperature11\", \"humidity11\", \"temperature22\", \"humidity22\", \"alert\", \"pressure\"]"
   ]
  },
  {
   "cell_type": "code",
   "execution_count": null,
   "metadata": {},
   "outputs": [],
   "source": []
  },
  {
   "cell_type": "code",
   "execution_count": 17,
   "metadata": {},
   "outputs": [],
   "source": [
    "ids = {'analog': 1000,\n",
    " 'onoff': 1001,\n",
    " 'temperature11': 1002,\n",
    " 'humidity11': 1003,\n",
    " 'alert': 1004,\n",
    " 'temperature22': 1006,\n",
    " 'humidity22': 1007,\n",
    " 'pressure': 1008}\n",
    "\n",
    "serviceIds = {\n",
    "    'analog': \"ANALOG_ID\",\n",
    " 'onoff':\"ONOFF_ID\",\n",
    " 'temperature11': \"TEMPERATURE_DHT11_ID\",\n",
    " 'humidity11': \"HUMIDITY_DHT11_ID\",\n",
    " 'alert': \"DIGITAL_ALERT_ID\",\n",
    " 'temperature22': \"TEMPERATURE_DHT22_ID\",\n",
    " 'humidity22': \"HUMIDITY_DHT22_ID\",\n",
    " 'pressure': \"PRESSURE_ID\"\n",
    "}\n"
   ]
  },
  {
   "cell_type": "code",
   "execution_count": 18,
   "metadata": {},
   "outputs": [],
   "source": [
    "class ArduinoController:\n",
    "    def __init__(self, _type, pin):\n",
    "        self._type =ids[_type]\n",
    "        self.rawType = _type\n",
    "        self.serviceId = serviceIds[_type]\n",
    "        self.defineService = serviceIds[_type][:-3]\n",
    "        self.pin = pin\n",
    "        self.serial = randomInt()\n",
    "        \n",
    "        "
   ]
  },
  {
   "cell_type": "code",
   "execution_count": 30,
   "metadata": {},
   "outputs": [],
   "source": [
    "def mode(controller):\n",
    "    return \"INPUT\" if controller.rawType in intypes else \"OUTPUT\""
   ]
  },
  {
   "cell_type": "code",
   "execution_count": 21,
   "metadata": {},
   "outputs": [],
   "source": [
    "\n"
   ]
  },
  {
   "cell_type": "code",
   "execution_count": 31,
   "metadata": {},
   "outputs": [],
   "source": [
    "device = ArduinoDevice(name=\"1\", controllers=[\n",
    "#     ArduinoController(\"analog\", \"A3\"),\n",
    "#     ArduinoController(\"alert\", \"10\"),\n",
    "#     ArduinoController(\"alert\", \"12\"),\n",
    "#     ArduinoController(\"temperature22\", \"7\"),\n",
    "#     ArduinoController(\"humidity22\", \"7\"),\n",
    "    ArduinoController(\"onoff\", \"4\"),\n",
    "    ArduinoController(\"onoff\", \"3\"),\n",
    "    ArduinoController(\"onoff\", \"2\")\n",
    "])"
   ]
  },
  {
   "cell_type": "code",
   "execution_count": 32,
   "metadata": {},
   "outputs": [
    {
     "name": "stdout",
     "output_type": "stream",
     "text": [
      "\n",
      "#include \"user_properties.h\"\n",
      "#include \"services.h\"\n",
      "#include \"service.h\"\n",
      "#include \"constants.h\"\n",
      "#include \"jsonUtil.h\"\n",
      "#include \"util.h\"\n",
      "#include \"streamLengthCounter.h\"\n",
      "\n",
      "#ifdef __ets__\n",
      "#include \"ets_sys.h\"\n",
      "#include \"osapi.h\"\n",
      "#endif\n",
      "\n",
      "const IPAddress RASPBERRY_IP = IPAddress(192,168,0,102);\n",
      "const int RASPBERRY_PORT  = 8080;\n",
      "const int ARDUINO_PORT = 80;\n",
      "\n",
      "const int DEVICE_SERIAL = 460902108;\n",
      "\n",
      "#define ONOFF\n",
      "\n",
      "// pins for communication with esp8266\n",
      "#define RX 8 // attach to TX of esp\n",
      "#define TX 9 // attach to RX of esp\n",
      "Service services[3];\n",
      "void setupConfiguration() {\n",
      "\tpinMode(4, OUTPUT);\n",
      "\tservices[0].pin = 4;\n",
      "\tservices[0].type = 1001;\n",
      "\tservices[0].serial = 907747194;\n",
      "\n",
      "\tpinMode(3, OUTPUT);\n",
      "\tservices[1].pin = 3;\n",
      "\tservices[1].type = 1001;\n",
      "\tservices[1].serial = -9200262;\n",
      "\n",
      "\tpinMode(2, OUTPUT);\n",
      "\tservices[2].pin = 2;\n",
      "\tservices[2].type = 1001;\n",
      "\tservices[2].serial = -688587091;\n",
      "\n",
      "}\n",
      "\n"
     ]
    }
   ],
   "source": [
    "paste = \"\"\"\n",
    "#include \"user_properties.h\"\n",
    "#include \"services.h\"\n",
    "#include \"service.h\"\n",
    "#include \"constants.h\"\n",
    "#include \"jsonUtil.h\"\n",
    "#include \"util.h\"\n",
    "#include \"streamLengthCounter.h\"\n",
    "\n",
    "#ifdef __ets__\n",
    "#include \"ets_sys.h\"\n",
    "#include \"osapi.h\"\n",
    "#endif\n",
    "\n",
    "const IPAddress RASPBERRY_IP = IPAddress(192,168,0,102);\n",
    "const int RASPBERRY_PORT  = 8080;\n",
    "const int ARDUINO_PORT = 80;\n",
    "\n",
    "\"\"\"\n",
    "paste += \"const int DEVICE_SERIAL = \" + str(device.serial) + \";\\n\\n\"\n",
    "\n",
    "for i in set(map(lambda x: x.defineService, device.controllers)):\n",
    "    paste += \"#define \" + i + \"\\n\"\n",
    "    \n",
    "paste += \"\\n// pins for communication with esp8266\\n\"\n",
    "paste += \"#define RX \" + str(device.rx) + \" // attach to TX of esp\\n\"\n",
    "paste += \"#define TX \" + str(device.tx) + \" // attach to RX of esp\\n\"\n",
    "\n",
    "paste += \"Service services[\" + str(len(device.controllers)) + \"];\\n\"\n",
    "paste += \"void setupConfiguration() {\\n\"\n",
    "\n",
    "for controller in device.controllers:\n",
    "    paste += \"\\tpinMode(\" + str(controller.pin) + \", \" + mode(controller) + \");\\n\"\n",
    "    paste += \"\\tservices[%i].pin = %s;\\n\" % (device.controllers.index(controller), controller.pin)\n",
    "    paste += \"\\tservices[%i].type = %s;\\n\" % (device.controllers.index(controller), controller._type)\n",
    "    paste += \"\\tservices[%i].serial = %s;\\n\" % (device.controllers.index(controller), controller.serial)\n",
    "    paste += \"\\n\"\n",
    "paste += \"}\\n\"\n",
    "\n",
    "print(paste)\n"
   ]
  },
  {
   "cell_type": "code",
   "execution_count": null,
   "metadata": {},
   "outputs": [],
   "source": []
  },
  {
   "cell_type": "code",
   "execution_count": null,
   "metadata": {},
   "outputs": [],
   "source": []
  }
 ],
 "metadata": {
  "kernelspec": {
   "display_name": "Python 3",
   "language": "python",
   "name": "python3"
  },
  "language_info": {
   "codemirror_mode": {
    "name": "ipython",
    "version": 3
   },
   "file_extension": ".py",
   "mimetype": "text/x-python",
   "name": "python",
   "nbconvert_exporter": "python",
   "pygments_lexer": "ipython3",
   "version": "3.8.2"
  }
 },
 "nbformat": 4,
 "nbformat_minor": 2
}
